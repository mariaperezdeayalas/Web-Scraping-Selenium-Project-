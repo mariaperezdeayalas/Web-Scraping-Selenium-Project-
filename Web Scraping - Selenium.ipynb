{
 "cells": [
  {
   "cell_type": "markdown",
   "id": "d9f0f3c6",
   "metadata": {},
   "source": [
    "# Web Scraping with Selenium"
   ]
  },
  {
   "cell_type": "code",
   "execution_count": 96,
   "id": "82e8f2aa",
   "metadata": {},
   "outputs": [],
   "source": [
    "from selenium import webdriver\n",
    "from selenium.webdriver.chrome.options import Options\n",
    "import time\n",
    "import pandas as pd\n",
    "from selenium.webdriver.support.ui import Select\n",
    "from webdriver_manager.chrome import ChromeDriverManager\n",
    "from selenium.webdriver.common.keys import Keys\n",
    "from pandas.plotting import table \n",
    "\n",
    "from matplotlib import pyplot as plt\n",
    "%matplotlib inline\n",
    "%config Inlinebackend.figure_format = 'retina'\n",
    "\n",
    "import seaborn as sns\n",
    "sns.set_context('poster')\n",
    "sns.set(rc={'figure.figsize': (16., 9.)})\n",
    "sns.set_style('whitegrid')"
   ]
  },
  {
   "cell_type": "markdown",
   "id": "9cb8d8fa",
   "metadata": {},
   "source": [
    "For this project we needed to do web scraping using Selenium. In my case, I have decided to scrap the women sneakers section in Zalando Spain. I have just taken the sneakers shown in the first page of all women sneakers in Zalando."
   ]
  },
  {
   "cell_type": "code",
   "execution_count": 2,
   "id": "5b01b10b",
   "metadata": {},
   "outputs": [],
   "source": [
    "opciones=Options()\n",
    "\n",
    "opciones.add_experimental_option('excludeSwitches', ['enable-automation'])\n",
    "opciones.add_experimental_option('useAutomationExtension', False)\n",
    "\n",
    "opciones.headless=False    \n",
    "\n",
    "opciones.add_argument('--start-maximized')         \n",
    "\n",
    "opciones.add_argument('user-data-dir=selenium')    \n",
    "\n",
    "opciones.add_argument('--incognito')              "
   ]
  },
  {
   "cell_type": "code",
   "execution_count": 3,
   "id": "558fe880",
   "metadata": {},
   "outputs": [
    {
     "name": "stderr",
     "output_type": "stream",
     "text": [
      "\n",
      "\n",
      "====== WebDriver manager ======\n",
      "Current google-chrome version is 95.0.4638\n",
      "Get LATEST chromedriver version for 95.0.4638 google-chrome\n",
      "Driver [/Users/maperezdeayalas/.wdm/drivers/chromedriver/mac64/95.0.4638.69/chromedriver] found in cache\n",
      "<ipython-input-3-47c99a03d69a>:1: DeprecationWarning: executable_path has been deprecated, please pass in a Service object\n",
      "  driver = webdriver.Chrome(ChromeDriverManager().install())\n",
      "<ipython-input-3-47c99a03d69a>:6: DeprecationWarning: find_element_by_* commands are deprecated. Please use find_element() instead\n",
      "  driver.find_element_by_xpath('/html/body/div[9]/div[3]/div/div/div/div/div[2]/div[1]/button[2]').click()\n",
      "<ipython-input-3-47c99a03d69a>:9: DeprecationWarning: find_element_by_* commands are deprecated. Please use find_element() instead\n",
      "  driver.find_element_by_css_selector(\"#z-navicat-header-root > header > div:nth-child(3) > div > div > div > div.VaE1kV.C3wGFf.JT3_zV > div > div > div > div.z-navicat-header_bottomRow > div.z-navicat-header_searchContainer > form > div > input\").send_keys(\"zapatillas\")\n",
      "<ipython-input-3-47c99a03d69a>:10: DeprecationWarning: find_element_by_* commands are deprecated. Please use find_element() instead\n",
      "  driver.find_element_by_css_selector(\"#z-navicat-header-root > header > div:nth-child(3) > div > div > div > div.VaE1kV.C3wGFf.JT3_zV > div > div > div > div.z-navicat-header_bottomRow > div.z-navicat-header_searchContainer > form > div > input\").send_keys(Keys.ENTER)\n",
      "<ipython-input-3-47c99a03d69a>:20: DeprecationWarning: find_element_by_* commands are deprecated. Please use find_element() instead\n",
      "  brands.append(driver.find_element_by_xpath(f\"/html/body/div[4]/div/div/x-wrapper-re-1-1/div/div[7]/div/div[2]/div[2]/div[2]/div[{i}]/div[2]/article/div[4]/a/header/div[1]/span\").text)\n",
      "<ipython-input-3-47c99a03d69a>:21: DeprecationWarning: find_element_by_* commands are deprecated. Please use find_element() instead\n",
      "  sneakers_model.append(driver.find_element_by_xpath(f\"/html/body/div[4]/div/div/x-wrapper-re-1-1/div/div[7]/div/div[2]/div[2]/div[2]/div[{i}]/div[2]/article/div[4]/a/header/div[1]/h3\").text)\n",
      "<ipython-input-3-47c99a03d69a>:22: DeprecationWarning: find_element_by_* commands are deprecated. Please use find_element() instead\n",
      "  current_price.append(driver.find_element_by_xpath(f\"/html/body/div[4]/div/div/x-wrapper-re-1-1/div/div[7]/div/div[2]/div[2]/div[2]/div[{i}]/div[2]/article/div[4]/a/header/div[2]/span[1]\").text)\n",
      "<ipython-input-3-47c99a03d69a>:25: DeprecationWarning: find_element_by_* commands are deprecated. Please use find_element() instead\n",
      "  previous_price.append(driver.find_element_by_xpath(f\"/html/body/div[4]/div/div/x-wrapper-re-1-1/div/div[7]/div/div[2]/div[2]/div[2]/div[{i}]/div[2]/article/div[4]/a/header/div[2]/span[2]\").text)\n",
      "<ipython-input-3-47c99a03d69a>:28: DeprecationWarning: find_element_by_* commands are deprecated. Please use find_element() instead\n",
      "  previous_price.append(driver.find_element_by_xpath(f\"/html/body/div[4]/div/div/x-wrapper-re-1-1/div/div[7]/div/div[2]/div[2]/div[2]/div[{i}]/div[2]/article/div[4]/a/header/div[2]/span[1]\").text)\n"
     ]
    },
    {
     "name": "stdout",
     "output_type": "stream",
     "text": [
      "influencer\n",
      "influencer\n",
      "influencer\n"
     ]
    },
    {
     "data": {
      "text/plain": [
       "<bound method ChromiumDriver.quit of <selenium.webdriver.chrome.webdriver.WebDriver (session=\"055b91a842706b26fb008ccc7dcc3fb2\")>>"
      ]
     },
     "execution_count": 3,
     "metadata": {},
     "output_type": "execute_result"
    }
   ],
   "source": [
    "driver = webdriver.Chrome(ChromeDriverManager().install())\n",
    "url = \"https://www.zalando.es/mujer-home/\" # Website to scrap\n",
    "driver.get(url)\n",
    "\n",
    "driver.implicitly_wait(10)\n",
    "driver.find_element_by_xpath('/html/body/div[9]/div[3]/div/div/div/div/div[2]/div[1]/button[2]').click() # Accepting the cookies\n",
    "\n",
    "driver.implicitly_wait(5)\n",
    "driver.find_element_by_css_selector(\"#z-navicat-header-root > header > div:nth-child(3) > div > div > div > div.VaE1kV.C3wGFf.JT3_zV > div > div > div > div.z-navicat-header_bottomRow > div.z-navicat-header_searchContainer > form > div > input\").send_keys(\"zapatillas\") # Searching for sneakers in the website\n",
    "driver.find_element_by_css_selector(\"#z-navicat-header-root > header > div:nth-child(3) > div > div > div > div.VaE1kV.C3wGFf.JT3_zV > div > div > div > div.z-navicat-header_bottomRow > div.z-navicat-header_searchContainer > form > div > input\").send_keys(Keys.ENTER) # Executing my search\n",
    "\n",
    "driver.implicitly_wait(2)\n",
    "# Now I want four elements from the website, so I have created 4 empty lists to include all the elements needed there\n",
    "brands = [] # Sneakers brands\n",
    "sneakers_model = [] # The model per brand\n",
    "current_price = [] # Current price (promoted or not)\n",
    "previous_price = [] # Previous price, in case it is not promoted it will give me the same price\n",
    "\n",
    "for i in range(1,88):\n",
    "    try:\n",
    "        brands.append(driver.find_element_by_xpath(f\"/html/body/div[4]/div/div/x-wrapper-re-1-1/div/div[7]/div/div[2]/div[2]/div[2]/div[{i}]/div[2]/article/div[4]/a/header/div[1]/span\").text)\n",
    "        sneakers_model.append(driver.find_element_by_xpath(f\"/html/body/div[4]/div/div/x-wrapper-re-1-1/div/div[7]/div/div[2]/div[2]/div[2]/div[{i}]/div[2]/article/div[4]/a/header/div[1]/h3\").text)\n",
    "        current_price.append(driver.find_element_by_xpath(f\"/html/body/div[4]/div/div/x-wrapper-re-1-1/div/div[7]/div/div[2]/div[2]/div[2]/div[{i}]/div[2]/article/div[4]/a/header/div[2]/span[1]\").text)\n",
    "        \n",
    "        try:\n",
    "            previous_price.append(driver.find_element_by_xpath(f\"/html/body/div[4]/div/div/x-wrapper-re-1-1/div/div[7]/div/div[2]/div[2]/div[2]/div[{i}]/div[2]/article/div[4]/a/header/div[2]/span[2]\").text)\n",
    "            \n",
    "        except:\n",
    "            previous_price.append(driver.find_element_by_xpath(f\"/html/body/div[4]/div/div/x-wrapper-re-1-1/div/div[7]/div/div[2]/div[2]/div[2]/div[{i}]/div[2]/article/div[4]/a/header/div[2]/span[1]\").text)\n",
    "            \n",
    "    except:\n",
    "        print('influencer') # There are pictures of influencers across the website so for those I want the system to tell me it is an influencer and go to the next product\n",
    "\n",
    "driver.quit\n",
    "    \n"
   ]
  },
  {
   "cell_type": "markdown",
   "id": "a9952692",
   "metadata": {},
   "source": [
    "Now I check that all my lists have the same length"
   ]
  },
  {
   "cell_type": "code",
   "execution_count": 4,
   "id": "54649d86",
   "metadata": {},
   "outputs": [
    {
     "data": {
      "text/plain": [
       "84"
      ]
     },
     "execution_count": 4,
     "metadata": {},
     "output_type": "execute_result"
    }
   ],
   "source": [
    "len(brands)"
   ]
  },
  {
   "cell_type": "code",
   "execution_count": 5,
   "id": "42c70538",
   "metadata": {
    "scrolled": true
   },
   "outputs": [
    {
     "data": {
      "text/plain": [
       "84"
      ]
     },
     "execution_count": 5,
     "metadata": {},
     "output_type": "execute_result"
    }
   ],
   "source": [
    "len(sneakers_model)"
   ]
  },
  {
   "cell_type": "code",
   "execution_count": 6,
   "id": "d1c166bf",
   "metadata": {},
   "outputs": [
    {
     "data": {
      "text/plain": [
       "84"
      ]
     },
     "execution_count": 6,
     "metadata": {},
     "output_type": "execute_result"
    }
   ],
   "source": [
    "len(current_price)"
   ]
  },
  {
   "cell_type": "code",
   "execution_count": 7,
   "id": "385dea68",
   "metadata": {},
   "outputs": [
    {
     "data": {
      "text/plain": [
       "84"
      ]
     },
     "execution_count": 7,
     "metadata": {},
     "output_type": "execute_result"
    }
   ],
   "source": [
    "len(previous_price)"
   ]
  },
  {
   "cell_type": "markdown",
   "id": "af222bd8",
   "metadata": {},
   "source": [
    "Now I can move into creating my dataframes with Pandas, creating a table with 4 columns, once for each list I have created"
   ]
  },
  {
   "cell_type": "code",
   "execution_count": 8,
   "id": "bc09520a",
   "metadata": {},
   "outputs": [],
   "source": [
    "df = pd.DataFrame(brands, sneakers_model).reset_index()"
   ]
  },
  {
   "cell_type": "code",
   "execution_count": 10,
   "id": "63b612cf",
   "metadata": {},
   "outputs": [],
   "source": [
    "df.columns = ['Model', 'Brand']"
   ]
  },
  {
   "cell_type": "code",
   "execution_count": 12,
   "id": "065f8ab3",
   "metadata": {},
   "outputs": [
    {
     "data": {
      "text/html": [
       "<div>\n",
       "<style scoped>\n",
       "    .dataframe tbody tr th:only-of-type {\n",
       "        vertical-align: middle;\n",
       "    }\n",
       "\n",
       "    .dataframe tbody tr th {\n",
       "        vertical-align: top;\n",
       "    }\n",
       "\n",
       "    .dataframe thead th {\n",
       "        text-align: right;\n",
       "    }\n",
       "</style>\n",
       "<table border=\"1\" class=\"dataframe\">\n",
       "  <thead>\n",
       "    <tr style=\"text-align: right;\">\n",
       "      <th></th>\n",
       "      <th>Model</th>\n",
       "      <th>Brand</th>\n",
       "    </tr>\n",
       "  </thead>\n",
       "  <tbody>\n",
       "    <tr>\n",
       "      <th>72</th>\n",
       "      <td>CRATER IMPACT - Zapatillas - black/iron grey/o...</td>\n",
       "      <td>Nike Sportswear</td>\n",
       "    </tr>\n",
       "  </tbody>\n",
       "</table>\n",
       "</div>"
      ],
      "text/plain": [
       "                                                Model            Brand\n",
       "72  CRATER IMPACT - Zapatillas - black/iron grey/o...  Nike Sportswear"
      ]
     },
     "execution_count": 12,
     "metadata": {},
     "output_type": "execute_result"
    }
   ],
   "source": [
    "df.sample()"
   ]
  },
  {
   "cell_type": "code",
   "execution_count": 14,
   "id": "77173d29",
   "metadata": {},
   "outputs": [
    {
     "data": {
      "text/html": [
       "<div>\n",
       "<style scoped>\n",
       "    .dataframe tbody tr th:only-of-type {\n",
       "        vertical-align: middle;\n",
       "    }\n",
       "\n",
       "    .dataframe tbody tr th {\n",
       "        vertical-align: top;\n",
       "    }\n",
       "\n",
       "    .dataframe thead th {\n",
       "        text-align: right;\n",
       "    }\n",
       "</style>\n",
       "<table border=\"1\" class=\"dataframe\">\n",
       "  <thead>\n",
       "    <tr style=\"text-align: right;\">\n",
       "      <th></th>\n",
       "      <th>Model</th>\n",
       "      <th>Brand</th>\n",
       "      <th>Current Price</th>\n",
       "    </tr>\n",
       "  </thead>\n",
       "  <tbody>\n",
       "    <tr>\n",
       "      <th>21</th>\n",
       "      <td>LOW CUT SNEAKER - Zapatillas - white</td>\n",
       "      <td>Tommy Jeans</td>\n",
       "      <td>desde 37,45 €</td>\n",
       "    </tr>\n",
       "  </tbody>\n",
       "</table>\n",
       "</div>"
      ],
      "text/plain": [
       "                                   Model        Brand  Current Price\n",
       "21  LOW CUT SNEAKER - Zapatillas - white  Tommy Jeans  desde 37,45 €"
      ]
     },
     "execution_count": 14,
     "metadata": {},
     "output_type": "execute_result"
    }
   ],
   "source": [
    "df['Current Price'] = current_price\n",
    "df.sample()"
   ]
  },
  {
   "cell_type": "code",
   "execution_count": 16,
   "id": "3147b0e6",
   "metadata": {},
   "outputs": [
    {
     "data": {
      "text/html": [
       "<div>\n",
       "<style scoped>\n",
       "    .dataframe tbody tr th:only-of-type {\n",
       "        vertical-align: middle;\n",
       "    }\n",
       "\n",
       "    .dataframe tbody tr th {\n",
       "        vertical-align: top;\n",
       "    }\n",
       "\n",
       "    .dataframe thead th {\n",
       "        text-align: right;\n",
       "    }\n",
       "</style>\n",
       "<table border=\"1\" class=\"dataframe\">\n",
       "  <thead>\n",
       "    <tr style=\"text-align: right;\">\n",
       "      <th></th>\n",
       "      <th>Model</th>\n",
       "      <th>Brand</th>\n",
       "      <th>Current Price</th>\n",
       "      <th>Previous Price</th>\n",
       "    </tr>\n",
       "  </thead>\n",
       "  <tbody>\n",
       "    <tr>\n",
       "      <th>32</th>\n",
       "      <td>MID SKOOL 37 UNISEX - Zapatillas altas - black...</td>\n",
       "      <td>Vans</td>\n",
       "      <td>79,95 €</td>\n",
       "      <td>79,95 €</td>\n",
       "    </tr>\n",
       "  </tbody>\n",
       "</table>\n",
       "</div>"
      ],
      "text/plain": [
       "                                                Model Brand Current Price  \\\n",
       "32  MID SKOOL 37 UNISEX - Zapatillas altas - black...  Vans       79,95 €   \n",
       "\n",
       "   Previous Price  \n",
       "32        79,95 €  "
      ]
     },
     "execution_count": 16,
     "metadata": {},
     "output_type": "execute_result"
    }
   ],
   "source": [
    "df['Previous Price'] = previous_price\n",
    "df.sample()"
   ]
  },
  {
   "cell_type": "code",
   "execution_count": 36,
   "id": "6922662f",
   "metadata": {},
   "outputs": [
    {
     "data": {
      "text/html": [
       "<div>\n",
       "<style scoped>\n",
       "    .dataframe tbody tr th:only-of-type {\n",
       "        vertical-align: middle;\n",
       "    }\n",
       "\n",
       "    .dataframe tbody tr th {\n",
       "        vertical-align: top;\n",
       "    }\n",
       "\n",
       "    .dataframe thead th {\n",
       "        text-align: right;\n",
       "    }\n",
       "</style>\n",
       "<table border=\"1\" class=\"dataframe\">\n",
       "  <thead>\n",
       "    <tr style=\"text-align: right;\">\n",
       "      <th></th>\n",
       "      <th>Model</th>\n",
       "      <th>Brand</th>\n",
       "      <th>Current Price</th>\n",
       "      <th>Previous Price</th>\n",
       "    </tr>\n",
       "  </thead>\n",
       "  <tbody>\n",
       "    <tr>\n",
       "      <th>0</th>\n",
       "      <td>REEBOK HIIT TR - Zapatillas de entrenamiento -...</td>\n",
       "      <td>Reebok</td>\n",
       "      <td>29,95 €</td>\n",
       "      <td>99,95 €</td>\n",
       "    </tr>\n",
       "    <tr>\n",
       "      <th>1</th>\n",
       "      <td>RUNNER 4.0 - Zapatillas de running neutras - c...</td>\n",
       "      <td>Reebok</td>\n",
       "      <td>24,95 €</td>\n",
       "      <td>49,95 €</td>\n",
       "    </tr>\n",
       "    <tr>\n",
       "      <th>2</th>\n",
       "      <td>AIR FORCE 1 SHADOW - Zapatillas - white</td>\n",
       "      <td>Nike</td>\n",
       "      <td>109,95 €</td>\n",
       "      <td>109,95 €</td>\n",
       "    </tr>\n",
       "    <tr>\n",
       "      <th>3</th>\n",
       "      <td>ENERGYLUX 2.0 - Zapatillas de running neutras ...</td>\n",
       "      <td>Reebok</td>\n",
       "      <td>desde 28,95 €</td>\n",
       "      <td>44,95 €</td>\n",
       "    </tr>\n",
       "    <tr>\n",
       "      <th>4</th>\n",
       "      <td>CHUCK TAYLOR ALL STAR LIFT - Zapatillas altas ...</td>\n",
       "      <td>Converse</td>\n",
       "      <td>desde 83,30 €</td>\n",
       "      <td>85,00 €</td>\n",
       "    </tr>\n",
       "  </tbody>\n",
       "</table>\n",
       "</div>"
      ],
      "text/plain": [
       "                                               Model     Brand  Current Price  \\\n",
       "0  REEBOK HIIT TR - Zapatillas de entrenamiento -...    Reebok        29,95 €   \n",
       "1  RUNNER 4.0 - Zapatillas de running neutras - c...    Reebok        24,95 €   \n",
       "2            AIR FORCE 1 SHADOW - Zapatillas - white      Nike       109,95 €   \n",
       "3  ENERGYLUX 2.0 - Zapatillas de running neutras ...    Reebok  desde 28,95 €   \n",
       "4  CHUCK TAYLOR ALL STAR LIFT - Zapatillas altas ...  Converse  desde 83,30 €   \n",
       "\n",
       "  Previous Price  \n",
       "0        99,95 €  \n",
       "1        49,95 €  \n",
       "2       109,95 €  \n",
       "3        44,95 €  \n",
       "4        85,00 €  "
      ]
     },
     "execution_count": 36,
     "metadata": {},
     "output_type": "execute_result"
    }
   ],
   "source": [
    "df.head(5)"
   ]
  },
  {
   "cell_type": "code",
   "execution_count": 17,
   "id": "65c779a5",
   "metadata": {
    "scrolled": true
   },
   "outputs": [
    {
     "data": {
      "text/plain": [
       "Nike Sportswear           21\n",
       "Converse                  11\n",
       "Nike Performance          10\n",
       "Reebok                     7\n",
       "Vans                       7\n",
       "Skechers Sport             5\n",
       "Puma                       5\n",
       "New Balance                4\n",
       "Champion                   2\n",
       "Lacoste                    2\n",
       "ASICS                      1\n",
       "Tommy Jeans                1\n",
       "RAID                       1\n",
       "The North Face             1\n",
       "Pepe Jeans                 1\n",
       "adidas Originals           1\n",
       "MICHAEL Michael Kors       1\n",
       "Monki                      1\n",
       "Marks & Spencer London     1\n",
       "ONLY SHOES                 1\n",
       "Name: Brand, dtype: int64"
      ]
     },
     "execution_count": 17,
     "metadata": {},
     "output_type": "execute_result"
    }
   ],
   "source": [
    "df['Brand'].value_counts()"
   ]
  },
  {
   "cell_type": "code",
   "execution_count": 28,
   "id": "ebac8d1a",
   "metadata": {},
   "outputs": [],
   "source": [
    "df['Brand'].replace({'Nike Sportswear': 'Nike', 'Nike Performance': 'Nike'}, inplace=True) # Putting all Nike products into the same brand"
   ]
  },
  {
   "cell_type": "code",
   "execution_count": 29,
   "id": "4a11ec92",
   "metadata": {},
   "outputs": [
    {
     "data": {
      "text/plain": [
       "Nike                      31\n",
       "Converse                  11\n",
       "Reebok                     7\n",
       "Vans                       7\n",
       "Skechers Sport             5\n",
       "Puma                       5\n",
       "New Balance                4\n",
       "Champion                   2\n",
       "Lacoste                    2\n",
       "ASICS                      1\n",
       "Tommy Jeans                1\n",
       "RAID                       1\n",
       "The North Face             1\n",
       "Pepe Jeans                 1\n",
       "adidas Originals           1\n",
       "MICHAEL Michael Kors       1\n",
       "Monki                      1\n",
       "Marks & Spencer London     1\n",
       "ONLY SHOES                 1\n",
       "Name: Brand, dtype: int64"
      ]
     },
     "execution_count": 29,
     "metadata": {},
     "output_type": "execute_result"
    }
   ],
   "source": [
    "df['Brand'].value_counts()"
   ]
  },
  {
   "cell_type": "markdown",
   "id": "a51b0291",
   "metadata": {},
   "source": [
    "Firstly I want to know the brand with more products in the first page of Zalando women skeaners. For it I am going to build a graph with just the key brands (the ones with 4 or more products in the website)."
   ]
  },
  {
   "cell_type": "code",
   "execution_count": 33,
   "id": "6811b560",
   "metadata": {},
   "outputs": [],
   "source": [
    "key_brands = df[((df['Brand'] == 'Nike') | (df['Brand'] == 'Converse') | (df['Brand'] == 'Reebok') | (df['Brand'] == 'Vans') | (df['Brand'] == 'Skechers Sport') | (df['Brand'] == 'Puma') | (df['Brand'] == 'New Balance'))]"
   ]
  },
  {
   "cell_type": "code",
   "execution_count": 37,
   "id": "666ac26b",
   "metadata": {},
   "outputs": [
    {
     "data": {
      "text/html": [
       "<div>\n",
       "<style scoped>\n",
       "    .dataframe tbody tr th:only-of-type {\n",
       "        vertical-align: middle;\n",
       "    }\n",
       "\n",
       "    .dataframe tbody tr th {\n",
       "        vertical-align: top;\n",
       "    }\n",
       "\n",
       "    .dataframe thead th {\n",
       "        text-align: right;\n",
       "    }\n",
       "</style>\n",
       "<table border=\"1\" class=\"dataframe\">\n",
       "  <thead>\n",
       "    <tr style=\"text-align: right;\">\n",
       "      <th></th>\n",
       "      <th>Model</th>\n",
       "      <th>Brand</th>\n",
       "      <th>Current Price</th>\n",
       "      <th>Previous Price</th>\n",
       "    </tr>\n",
       "  </thead>\n",
       "  <tbody>\n",
       "    <tr>\n",
       "      <th>68</th>\n",
       "      <td>SOFTRIDE SOPHIA EASY - Zapatillas de running n...</td>\n",
       "      <td>Puma</td>\n",
       "      <td>32,45 €</td>\n",
       "      <td>64,95 €</td>\n",
       "    </tr>\n",
       "    <tr>\n",
       "      <th>77</th>\n",
       "      <td>RUN STAR HIKE - Zapatillas altas - white/black</td>\n",
       "      <td>Converse</td>\n",
       "      <td>desde 109,90 €</td>\n",
       "      <td>desde 109,90 €</td>\n",
       "    </tr>\n",
       "    <tr>\n",
       "      <th>52</th>\n",
       "      <td>Zapatillas - moonbeam</td>\n",
       "      <td>New Balance</td>\n",
       "      <td>99,95 €</td>\n",
       "      <td>99,95 €</td>\n",
       "    </tr>\n",
       "  </tbody>\n",
       "</table>\n",
       "</div>"
      ],
      "text/plain": [
       "                                                Model        Brand  \\\n",
       "68  SOFTRIDE SOPHIA EASY - Zapatillas de running n...         Puma   \n",
       "77     RUN STAR HIKE - Zapatillas altas - white/black     Converse   \n",
       "52                              Zapatillas - moonbeam  New Balance   \n",
       "\n",
       "     Current Price  Previous Price  \n",
       "68         32,45 €         64,95 €  \n",
       "77  desde 109,90 €  desde 109,90 €  \n",
       "52         99,95 €         99,95 €  "
      ]
     },
     "execution_count": 37,
     "metadata": {},
     "output_type": "execute_result"
    }
   ],
   "source": [
    "key_brands.sample(3)"
   ]
  },
  {
   "cell_type": "code",
   "execution_count": 82,
   "id": "e9839183",
   "metadata": {},
   "outputs": [
    {
     "data": {
      "image/png": "[encoded data removed]",
      "text/plain": [
       "<Figure size 1152x648 with 1 Axes>"
      ]
     },
     "metadata": {},
     "output_type": "display_data"
    }
   ],
   "source": [
    "key_brands = sns.countplot(x = 'Brand', data = key_brands)\n",
    "key_brands\n",
    "key_brands.figure.savefig(\"key_brands_graph.jpg\", dpi=1000)"
   ]
  },
  {
   "cell_type": "markdown",
   "id": "d187a77b",
   "metadata": {},
   "source": [
    "Nike is the brand with more sneakers in the first page of Zalando women sneakers. It has 31 sneakers, vs Converse which is the next brand just having 11."
   ]
  },
  {
   "cell_type": "markdown",
   "id": "3eeef849",
   "metadata": {},
   "source": [
    "Secondly, I want to check how many Nike products are promoted to check if this is the main reason of Nike appearing so many times in the first page of Zalando."
   ]
  },
  {
   "cell_type": "code",
   "execution_count": 43,
   "id": "11516e9a",
   "metadata": {},
   "outputs": [
    {
     "name": "stdout",
     "output_type": "stream",
     "text": [
      "<class 'pandas.core.frame.DataFrame'>\n",
      "Int64Index: 31 entries, 2 to 83\n",
      "Data columns (total 4 columns):\n",
      " #   Column          Non-Null Count  Dtype \n",
      "---  ------          --------------  ----- \n",
      " 0   Model           31 non-null     object\n",
      " 1   Brand           31 non-null     object\n",
      " 2   Current Price   31 non-null     object\n",
      " 3   Previous Price  31 non-null     object\n",
      "dtypes: object(4)\n",
      "memory usage: 1.2+ KB\n"
     ]
    }
   ],
   "source": [
    "nike.info()"
   ]
  },
  {
   "cell_type": "markdown",
   "id": "f3873211",
   "metadata": {},
   "source": [
    "With the current price data of the dataframe I cannot check the price differences of the products because there are strings. That is why first I need to transform the objects to numbers (floats)."
   ]
  },
  {
   "cell_type": "code",
   "execution_count": 47,
   "id": "d1841bf8",
   "metadata": {},
   "outputs": [],
   "source": [
    "df['Current Price'] = ['.'.join(precio.rstrip('€').split(',')) for precio in df['Current Price']]"
   ]
  },
  {
   "cell_type": "code",
   "execution_count": 51,
   "id": "d83b007a",
   "metadata": {},
   "outputs": [],
   "source": [
    "df['Previous Price'] = ['.'.join(precio.rstrip('€').split(',')) for precio in df['Previous Price']]"
   ]
  },
  {
   "cell_type": "code",
   "execution_count": 52,
   "id": "de246acd",
   "metadata": {},
   "outputs": [
    {
     "data": {
      "text/html": [
       "<div>\n",
       "<style scoped>\n",
       "    .dataframe tbody tr th:only-of-type {\n",
       "        vertical-align: middle;\n",
       "    }\n",
       "\n",
       "    .dataframe tbody tr th {\n",
       "        vertical-align: top;\n",
       "    }\n",
       "\n",
       "    .dataframe thead th {\n",
       "        text-align: right;\n",
       "    }\n",
       "</style>\n",
       "<table border=\"1\" class=\"dataframe\">\n",
       "  <thead>\n",
       "    <tr style=\"text-align: right;\">\n",
       "      <th></th>\n",
       "      <th>Model</th>\n",
       "      <th>Brand</th>\n",
       "      <th>Current Price</th>\n",
       "      <th>Previous Price</th>\n",
       "    </tr>\n",
       "  </thead>\n",
       "  <tbody>\n",
       "    <tr>\n",
       "      <th>10</th>\n",
       "      <td>AIR FORCE 1 SHADOW - Zapatillas - sail/pink gl...</td>\n",
       "      <td>Nike</td>\n",
       "      <td>109.95</td>\n",
       "      <td>109.95</td>\n",
       "    </tr>\n",
       "    <tr>\n",
       "      <th>23</th>\n",
       "      <td>LOW CUT SHOE BLACK OUT - Zapatillas para camin...</td>\n",
       "      <td>Champion</td>\n",
       "      <td>44.95</td>\n",
       "      <td>44.95</td>\n",
       "    </tr>\n",
       "    <tr>\n",
       "      <th>16</th>\n",
       "      <td>LITE - Zapatillas de running estables - white</td>\n",
       "      <td>Reebok</td>\n",
       "      <td>25.95</td>\n",
       "      <td>39.95</td>\n",
       "    </tr>\n",
       "    <tr>\n",
       "      <th>42</th>\n",
       "      <td>AIR ZM SUPERREP 2 MFS - Zapatillas de entrenam...</td>\n",
       "      <td>Nike</td>\n",
       "      <td>99.95</td>\n",
       "      <td>124.95</td>\n",
       "    </tr>\n",
       "    <tr>\n",
       "      <th>52</th>\n",
       "      <td>Zapatillas - moonbeam</td>\n",
       "      <td>New Balance</td>\n",
       "      <td>99.95</td>\n",
       "      <td>99.95</td>\n",
       "    </tr>\n",
       "  </tbody>\n",
       "</table>\n",
       "</div>"
      ],
      "text/plain": [
       "                                                Model        Brand  \\\n",
       "10  AIR FORCE 1 SHADOW - Zapatillas - sail/pink gl...         Nike   \n",
       "23  LOW CUT SHOE BLACK OUT - Zapatillas para camin...     Champion   \n",
       "16      LITE - Zapatillas de running estables - white       Reebok   \n",
       "42  AIR ZM SUPERREP 2 MFS - Zapatillas de entrenam...         Nike   \n",
       "52                              Zapatillas - moonbeam  New Balance   \n",
       "\n",
       "   Current Price Previous Price  \n",
       "10       109.95         109.95   \n",
       "23        44.95          44.95   \n",
       "16        25.95          39.95   \n",
       "42        99.95         124.95   \n",
       "52        99.95          99.95   "
      ]
     },
     "execution_count": 52,
     "metadata": {},
     "output_type": "execute_result"
    }
   ],
   "source": [
    "df.sample(5)"
   ]
  },
  {
   "cell_type": "code",
   "execution_count": 53,
   "id": "ed11fca3",
   "metadata": {},
   "outputs": [],
   "source": [
    "df['Current Price'] = ['.'.join(precio.lstrip('desde').split(',')) for precio in df['Current Price']]"
   ]
  },
  {
   "cell_type": "code",
   "execution_count": 55,
   "id": "972d31e6",
   "metadata": {},
   "outputs": [],
   "source": [
    "df['Previous Price'] = ['.'.join(precio.lstrip('desde').split(',')) for precio in df['Previous Price']]"
   ]
  },
  {
   "cell_type": "code",
   "execution_count": 58,
   "id": "e173405d",
   "metadata": {},
   "outputs": [
    {
     "name": "stdout",
     "output_type": "stream",
     "text": [
      "<class 'pandas.core.frame.DataFrame'>\n",
      "RangeIndex: 84 entries, 0 to 83\n",
      "Data columns (total 4 columns):\n",
      " #   Column          Non-Null Count  Dtype \n",
      "---  ------          --------------  ----- \n",
      " 0   Model           84 non-null     object\n",
      " 1   Brand           84 non-null     object\n",
      " 2   Current Price   84 non-null     object\n",
      " 3   Previous Price  84 non-null     object\n",
      "dtypes: object(4)\n",
      "memory usage: 2.8+ KB\n"
     ]
    }
   ],
   "source": [
    "df.info() # The numbers are still strings and not float"
   ]
  },
  {
   "cell_type": "code",
   "execution_count": 59,
   "id": "267aacd4",
   "metadata": {},
   "outputs": [],
   "source": [
    "df['Current Price'] = pd.to_numeric(df['Current Price'])"
   ]
  },
  {
   "cell_type": "code",
   "execution_count": 62,
   "id": "b1d97ce0",
   "metadata": {},
   "outputs": [],
   "source": [
    "df['Previous Price'] = pd.to_numeric(df['Previous Price'])"
   ]
  },
  {
   "cell_type": "code",
   "execution_count": 63,
   "id": "ef224e12",
   "metadata": {},
   "outputs": [
    {
     "name": "stdout",
     "output_type": "stream",
     "text": [
      "<class 'pandas.core.frame.DataFrame'>\n",
      "RangeIndex: 84 entries, 0 to 83\n",
      "Data columns (total 4 columns):\n",
      " #   Column          Non-Null Count  Dtype  \n",
      "---  ------          --------------  -----  \n",
      " 0   Model           84 non-null     object \n",
      " 1   Brand           84 non-null     object \n",
      " 2   Current Price   84 non-null     float64\n",
      " 3   Previous Price  84 non-null     float64\n",
      "dtypes: float64(2), object(2)\n",
      "memory usage: 2.8+ KB\n"
     ]
    }
   ],
   "source": [
    "df.info() # Now my numbers are all floats"
   ]
  },
  {
   "cell_type": "markdown",
   "id": "80b9e992",
   "metadata": {},
   "source": [
    "As the data is all clean now I can save it in a csv"
   ]
  },
  {
   "cell_type": "code",
   "execution_count": 65,
   "id": "600abd19",
   "metadata": {},
   "outputs": [],
   "source": [
    "df.to_csv(\"zalando_sneakers_data.csv\")"
   ]
  },
  {
   "cell_type": "code",
   "execution_count": 67,
   "id": "c78207c5",
   "metadata": {},
   "outputs": [],
   "source": [
    "df['Price Difference'] = df['Current Price'] - df['Previous Price'] # If the number = 0, there is no promotion done on it"
   ]
  },
  {
   "cell_type": "code",
   "execution_count": 68,
   "id": "60126819",
   "metadata": {},
   "outputs": [
    {
     "data": {
      "text/html": [
       "<div>\n",
       "<style scoped>\n",
       "    .dataframe tbody tr th:only-of-type {\n",
       "        vertical-align: middle;\n",
       "    }\n",
       "\n",
       "    .dataframe tbody tr th {\n",
       "        vertical-align: top;\n",
       "    }\n",
       "\n",
       "    .dataframe thead th {\n",
       "        text-align: right;\n",
       "    }\n",
       "</style>\n",
       "<table border=\"1\" class=\"dataframe\">\n",
       "  <thead>\n",
       "    <tr style=\"text-align: right;\">\n",
       "      <th></th>\n",
       "      <th>Model</th>\n",
       "      <th>Brand</th>\n",
       "      <th>Current Price</th>\n",
       "      <th>Previous Price</th>\n",
       "      <th>Price Difference</th>\n",
       "    </tr>\n",
       "  </thead>\n",
       "  <tbody>\n",
       "    <tr>\n",
       "      <th>0</th>\n",
       "      <td>REEBOK HIIT TR - Zapatillas de entrenamiento -...</td>\n",
       "      <td>Reebok</td>\n",
       "      <td>29.95</td>\n",
       "      <td>99.95</td>\n",
       "      <td>-70.00</td>\n",
       "    </tr>\n",
       "    <tr>\n",
       "      <th>1</th>\n",
       "      <td>RUNNER 4.0 - Zapatillas de running neutras - c...</td>\n",
       "      <td>Reebok</td>\n",
       "      <td>24.95</td>\n",
       "      <td>49.95</td>\n",
       "      <td>-25.00</td>\n",
       "    </tr>\n",
       "    <tr>\n",
       "      <th>2</th>\n",
       "      <td>AIR FORCE 1 SHADOW - Zapatillas - white</td>\n",
       "      <td>Nike</td>\n",
       "      <td>109.95</td>\n",
       "      <td>109.95</td>\n",
       "      <td>0.00</td>\n",
       "    </tr>\n",
       "    <tr>\n",
       "      <th>3</th>\n",
       "      <td>ENERGYLUX 2.0 - Zapatillas de running neutras ...</td>\n",
       "      <td>Reebok</td>\n",
       "      <td>28.95</td>\n",
       "      <td>44.95</td>\n",
       "      <td>-16.00</td>\n",
       "    </tr>\n",
       "    <tr>\n",
       "      <th>4</th>\n",
       "      <td>CHUCK TAYLOR ALL STAR LIFT - Zapatillas altas ...</td>\n",
       "      <td>Converse</td>\n",
       "      <td>83.30</td>\n",
       "      <td>85.00</td>\n",
       "      <td>-1.70</td>\n",
       "    </tr>\n",
       "    <tr>\n",
       "      <th>...</th>\n",
       "      <td>...</td>\n",
       "      <td>...</td>\n",
       "      <td>...</td>\n",
       "      <td>...</td>\n",
       "      <td>...</td>\n",
       "    </tr>\n",
       "    <tr>\n",
       "      <th>79</th>\n",
       "      <td>GRACEFUL - Zapatillas - gray/mint</td>\n",
       "      <td>Skechers Sport</td>\n",
       "      <td>49.95</td>\n",
       "      <td>49.95</td>\n",
       "      <td>0.00</td>\n",
       "    </tr>\n",
       "    <tr>\n",
       "      <th>80</th>\n",
       "      <td>WL574 - Zapatillas - navy</td>\n",
       "      <td>New Balance</td>\n",
       "      <td>59.97</td>\n",
       "      <td>99.95</td>\n",
       "      <td>-39.98</td>\n",
       "    </tr>\n",
       "    <tr>\n",
       "      <th>81</th>\n",
       "      <td>REACT VISION - Zapatillas - washed coral/hyper...</td>\n",
       "      <td>Nike</td>\n",
       "      <td>77.95</td>\n",
       "      <td>129.95</td>\n",
       "      <td>-52.00</td>\n",
       "    </tr>\n",
       "    <tr>\n",
       "      <th>82</th>\n",
       "      <td>LOW CUT SHOE BOLD XS - Zapatillas de entrenami...</td>\n",
       "      <td>Champion</td>\n",
       "      <td>22.45</td>\n",
       "      <td>44.95</td>\n",
       "      <td>-22.50</td>\n",
       "    </tr>\n",
       "    <tr>\n",
       "      <th>83</th>\n",
       "      <td>W MC TRAINER - Zapatillas de entrenamiento - s...</td>\n",
       "      <td>Nike</td>\n",
       "      <td>48.95</td>\n",
       "      <td>69.95</td>\n",
       "      <td>-21.00</td>\n",
       "    </tr>\n",
       "  </tbody>\n",
       "</table>\n",
       "<p>84 rows × 5 columns</p>\n",
       "</div>"
      ],
      "text/plain": [
       "                                                Model           Brand  \\\n",
       "0   REEBOK HIIT TR - Zapatillas de entrenamiento -...          Reebok   \n",
       "1   RUNNER 4.0 - Zapatillas de running neutras - c...          Reebok   \n",
       "2             AIR FORCE 1 SHADOW - Zapatillas - white            Nike   \n",
       "3   ENERGYLUX 2.0 - Zapatillas de running neutras ...          Reebok   \n",
       "4   CHUCK TAYLOR ALL STAR LIFT - Zapatillas altas ...        Converse   \n",
       "..                                                ...             ...   \n",
       "79                  GRACEFUL - Zapatillas - gray/mint  Skechers Sport   \n",
       "80                          WL574 - Zapatillas - navy     New Balance   \n",
       "81  REACT VISION - Zapatillas - washed coral/hyper...            Nike   \n",
       "82  LOW CUT SHOE BOLD XS - Zapatillas de entrenami...        Champion   \n",
       "83  W MC TRAINER - Zapatillas de entrenamiento - s...            Nike   \n",
       "\n",
       "    Current Price  Previous Price  Price Difference  \n",
       "0           29.95           99.95            -70.00  \n",
       "1           24.95           49.95            -25.00  \n",
       "2          109.95          109.95              0.00  \n",
       "3           28.95           44.95            -16.00  \n",
       "4           83.30           85.00             -1.70  \n",
       "..            ...             ...               ...  \n",
       "79          49.95           49.95              0.00  \n",
       "80          59.97           99.95            -39.98  \n",
       "81          77.95          129.95            -52.00  \n",
       "82          22.45           44.95            -22.50  \n",
       "83          48.95           69.95            -21.00  \n",
       "\n",
       "[84 rows x 5 columns]"
      ]
     },
     "execution_count": 68,
     "metadata": {},
     "output_type": "execute_result"
    }
   ],
   "source": [
    "df"
   ]
  },
  {
   "cell_type": "code",
   "execution_count": 70,
   "id": "8cb94f8a",
   "metadata": {},
   "outputs": [
    {
     "data": {
      "text/html": [
       "<div>\n",
       "<style scoped>\n",
       "    .dataframe tbody tr th:only-of-type {\n",
       "        vertical-align: middle;\n",
       "    }\n",
       "\n",
       "    .dataframe tbody tr th {\n",
       "        vertical-align: top;\n",
       "    }\n",
       "\n",
       "    .dataframe thead th {\n",
       "        text-align: right;\n",
       "    }\n",
       "</style>\n",
       "<table border=\"1\" class=\"dataframe\">\n",
       "  <thead>\n",
       "    <tr style=\"text-align: right;\">\n",
       "      <th></th>\n",
       "      <th>Model</th>\n",
       "      <th>Brand</th>\n",
       "      <th>Current Price</th>\n",
       "      <th>Previous Price</th>\n",
       "      <th>Price Difference</th>\n",
       "    </tr>\n",
       "  </thead>\n",
       "  <tbody>\n",
       "    <tr>\n",
       "      <th>51</th>\n",
       "      <td>INTERNATIONALIST - Zapatillas - black/dark grey</td>\n",
       "      <td>Nike</td>\n",
       "      <td>89.95</td>\n",
       "      <td>89.95</td>\n",
       "      <td>0.0</td>\n",
       "    </tr>\n",
       "  </tbody>\n",
       "</table>\n",
       "</div>"
      ],
      "text/plain": [
       "                                              Model Brand  Current Price  \\\n",
       "51  INTERNATIONALIST - Zapatillas - black/dark grey  Nike          89.95   \n",
       "\n",
       "    Previous Price  Price Difference  \n",
       "51           89.95               0.0  "
      ]
     },
     "execution_count": 70,
     "metadata": {},
     "output_type": "execute_result"
    }
   ],
   "source": [
    "nike = df[df['Brand'] == 'Nike']\n",
    "nike.sample()"
   ]
  },
  {
   "cell_type": "code",
   "execution_count": 71,
   "id": "df715123",
   "metadata": {
    "scrolled": true
   },
   "outputs": [
    {
     "data": {
      "text/plain": [
       " 0.0     13\n",
       "-16.3     4\n",
       "-36.0     3\n",
       "-44.0     2\n",
       "-39.0     1\n",
       "-16.5     1\n",
       "-18.0     1\n",
       "-38.0     1\n",
       "-25.0     1\n",
       "-56.0     1\n",
       "-6.0      1\n",
       "-52.0     1\n",
       "-21.0     1\n",
       "Name: Price Difference, dtype: int64"
      ]
     },
     "execution_count": 71,
     "metadata": {},
     "output_type": "execute_result"
    }
   ],
   "source": [
    "nike['Price Difference'].value_counts()"
   ]
  },
  {
   "cell_type": "markdown",
   "id": "e58c28b5",
   "metadata": {},
   "source": [
    "There are 13 products with no promotion in Nike  "
   ]
  },
  {
   "cell_type": "code",
   "execution_count": 87,
   "id": "9f274062",
   "metadata": {},
   "outputs": [
    {
     "data": {
      "text/html": [
       "<div>\n",
       "<style scoped>\n",
       "    .dataframe tbody tr th:only-of-type {\n",
       "        vertical-align: middle;\n",
       "    }\n",
       "\n",
       "    .dataframe tbody tr th {\n",
       "        vertical-align: top;\n",
       "    }\n",
       "\n",
       "    .dataframe thead th {\n",
       "        text-align: right;\n",
       "    }\n",
       "</style>\n",
       "<table border=\"1\" class=\"dataframe\">\n",
       "  <thead>\n",
       "    <tr style=\"text-align: right;\">\n",
       "      <th></th>\n",
       "      <th>Model</th>\n",
       "      <th>Brand</th>\n",
       "      <th>Current Price</th>\n",
       "      <th>Previous Price</th>\n",
       "    </tr>\n",
       "    <tr>\n",
       "      <th>Price Difference</th>\n",
       "      <th></th>\n",
       "      <th></th>\n",
       "      <th></th>\n",
       "      <th></th>\n",
       "    </tr>\n",
       "  </thead>\n",
       "  <tbody>\n",
       "    <tr>\n",
       "      <th>-56.0</th>\n",
       "      <td>1</td>\n",
       "      <td>1</td>\n",
       "      <td>1</td>\n",
       "      <td>1</td>\n",
       "    </tr>\n",
       "    <tr>\n",
       "      <th>-52.0</th>\n",
       "      <td>1</td>\n",
       "      <td>1</td>\n",
       "      <td>1</td>\n",
       "      <td>1</td>\n",
       "    </tr>\n",
       "    <tr>\n",
       "      <th>-44.0</th>\n",
       "      <td>2</td>\n",
       "      <td>2</td>\n",
       "      <td>2</td>\n",
       "      <td>2</td>\n",
       "    </tr>\n",
       "    <tr>\n",
       "      <th>-39.0</th>\n",
       "      <td>1</td>\n",
       "      <td>1</td>\n",
       "      <td>1</td>\n",
       "      <td>1</td>\n",
       "    </tr>\n",
       "    <tr>\n",
       "      <th>-38.0</th>\n",
       "      <td>1</td>\n",
       "      <td>1</td>\n",
       "      <td>1</td>\n",
       "      <td>1</td>\n",
       "    </tr>\n",
       "    <tr>\n",
       "      <th>-36.0</th>\n",
       "      <td>3</td>\n",
       "      <td>3</td>\n",
       "      <td>3</td>\n",
       "      <td>3</td>\n",
       "    </tr>\n",
       "    <tr>\n",
       "      <th>-25.0</th>\n",
       "      <td>1</td>\n",
       "      <td>1</td>\n",
       "      <td>1</td>\n",
       "      <td>1</td>\n",
       "    </tr>\n",
       "    <tr>\n",
       "      <th>-21.0</th>\n",
       "      <td>1</td>\n",
       "      <td>1</td>\n",
       "      <td>1</td>\n",
       "      <td>1</td>\n",
       "    </tr>\n",
       "    <tr>\n",
       "      <th>-18.0</th>\n",
       "      <td>1</td>\n",
       "      <td>1</td>\n",
       "      <td>1</td>\n",
       "      <td>1</td>\n",
       "    </tr>\n",
       "    <tr>\n",
       "      <th>-16.5</th>\n",
       "      <td>1</td>\n",
       "      <td>1</td>\n",
       "      <td>1</td>\n",
       "      <td>1</td>\n",
       "    </tr>\n",
       "    <tr>\n",
       "      <th>-16.3</th>\n",
       "      <td>4</td>\n",
       "      <td>4</td>\n",
       "      <td>4</td>\n",
       "      <td>4</td>\n",
       "    </tr>\n",
       "    <tr>\n",
       "      <th>-6.0</th>\n",
       "      <td>1</td>\n",
       "      <td>1</td>\n",
       "      <td>1</td>\n",
       "      <td>1</td>\n",
       "    </tr>\n",
       "    <tr>\n",
       "      <th>0.0</th>\n",
       "      <td>13</td>\n",
       "      <td>13</td>\n",
       "      <td>13</td>\n",
       "      <td>13</td>\n",
       "    </tr>\n",
       "  </tbody>\n",
       "</table>\n",
       "</div>"
      ],
      "text/plain": [
       "                  Model  Brand  Current Price  Previous Price\n",
       "Price Difference                                             \n",
       "-56.0                 1      1              1               1\n",
       "-52.0                 1      1              1               1\n",
       "-44.0                 2      2              2               2\n",
       "-39.0                 1      1              1               1\n",
       "-38.0                 1      1              1               1\n",
       "-36.0                 3      3              3               3\n",
       "-25.0                 1      1              1               1\n",
       "-21.0                 1      1              1               1\n",
       "-18.0                 1      1              1               1\n",
       "-16.5                 1      1              1               1\n",
       "-16.3                 4      4              4               4\n",
       "-6.0                  1      1              1               1\n",
       " 0.0                 13     13             13              13"
      ]
     },
     "execution_count": 87,
     "metadata": {},
     "output_type": "execute_result"
    }
   ],
   "source": [
    "group = nike.groupby(['Price Difference']).count()\n",
    "group"
   ]
  },
  {
   "cell_type": "code",
   "execution_count": 99,
   "id": "ea3b0f59",
   "metadata": {},
   "outputs": [],
   "source": [
    "group.to_csv(\"nike_discount_products.csv\")"
   ]
  },
  {
   "cell_type": "markdown",
   "id": "b2cc7636",
   "metadata": {},
   "source": [
    "More than half of Nike products are discounted."
   ]
  },
  {
   "cell_type": "markdown",
   "id": "620ab2f2",
   "metadata": {},
   "source": [
    "Thirdly, let's see of this is the same for the total products."
   ]
  },
  {
   "cell_type": "code",
   "execution_count": 101,
   "id": "58c28d01",
   "metadata": {},
   "outputs": [
    {
     "data": {
      "text/html": [
       "<div>\n",
       "<style scoped>\n",
       "    .dataframe tbody tr th:only-of-type {\n",
       "        vertical-align: middle;\n",
       "    }\n",
       "\n",
       "    .dataframe tbody tr th {\n",
       "        vertical-align: top;\n",
       "    }\n",
       "\n",
       "    .dataframe thead th {\n",
       "        text-align: right;\n",
       "    }\n",
       "</style>\n",
       "<table border=\"1\" class=\"dataframe\">\n",
       "  <thead>\n",
       "    <tr style=\"text-align: right;\">\n",
       "      <th></th>\n",
       "      <th>Model</th>\n",
       "      <th>Brand</th>\n",
       "      <th>Current Price</th>\n",
       "      <th>Previous Price</th>\n",
       "    </tr>\n",
       "    <tr>\n",
       "      <th>Price Difference</th>\n",
       "      <th></th>\n",
       "      <th></th>\n",
       "      <th></th>\n",
       "      <th></th>\n",
       "    </tr>\n",
       "  </thead>\n",
       "  <tbody>\n",
       "    <tr>\n",
       "      <th>-70.00</th>\n",
       "      <td>1</td>\n",
       "      <td>1</td>\n",
       "      <td>1</td>\n",
       "      <td>1</td>\n",
       "    </tr>\n",
       "    <tr>\n",
       "      <th>-56.00</th>\n",
       "      <td>1</td>\n",
       "      <td>1</td>\n",
       "      <td>1</td>\n",
       "      <td>1</td>\n",
       "    </tr>\n",
       "    <tr>\n",
       "      <th>-52.00</th>\n",
       "      <td>1</td>\n",
       "      <td>1</td>\n",
       "      <td>1</td>\n",
       "      <td>1</td>\n",
       "    </tr>\n",
       "    <tr>\n",
       "      <th>-47.00</th>\n",
       "      <td>1</td>\n",
       "      <td>1</td>\n",
       "      <td>1</td>\n",
       "      <td>1</td>\n",
       "    </tr>\n",
       "    <tr>\n",
       "      <th>-44.00</th>\n",
       "      <td>2</td>\n",
       "      <td>2</td>\n",
       "      <td>2</td>\n",
       "      <td>2</td>\n",
       "    </tr>\n",
       "    <tr>\n",
       "      <th>-39.98</th>\n",
       "      <td>1</td>\n",
       "      <td>1</td>\n",
       "      <td>1</td>\n",
       "      <td>1</td>\n",
       "    </tr>\n",
       "    <tr>\n",
       "      <th>-39.00</th>\n",
       "      <td>1</td>\n",
       "      <td>1</td>\n",
       "      <td>1</td>\n",
       "      <td>1</td>\n",
       "    </tr>\n",
       "    <tr>\n",
       "      <th>-38.00</th>\n",
       "      <td>1</td>\n",
       "      <td>1</td>\n",
       "      <td>1</td>\n",
       "      <td>1</td>\n",
       "    </tr>\n",
       "    <tr>\n",
       "      <th>-37.50</th>\n",
       "      <td>1</td>\n",
       "      <td>1</td>\n",
       "      <td>1</td>\n",
       "      <td>1</td>\n",
       "    </tr>\n",
       "    <tr>\n",
       "      <th>-36.00</th>\n",
       "      <td>3</td>\n",
       "      <td>3</td>\n",
       "      <td>3</td>\n",
       "      <td>3</td>\n",
       "    </tr>\n",
       "    <tr>\n",
       "      <th>-35.98</th>\n",
       "      <td>1</td>\n",
       "      <td>1</td>\n",
       "      <td>1</td>\n",
       "      <td>1</td>\n",
       "    </tr>\n",
       "    <tr>\n",
       "      <th>-35.50</th>\n",
       "      <td>1</td>\n",
       "      <td>1</td>\n",
       "      <td>1</td>\n",
       "      <td>1</td>\n",
       "    </tr>\n",
       "    <tr>\n",
       "      <th>-32.50</th>\n",
       "      <td>1</td>\n",
       "      <td>1</td>\n",
       "      <td>1</td>\n",
       "      <td>1</td>\n",
       "    </tr>\n",
       "    <tr>\n",
       "      <th>-25.50</th>\n",
       "      <td>1</td>\n",
       "      <td>1</td>\n",
       "      <td>1</td>\n",
       "      <td>1</td>\n",
       "    </tr>\n",
       "    <tr>\n",
       "      <th>-25.00</th>\n",
       "      <td>1</td>\n",
       "      <td>1</td>\n",
       "      <td>1</td>\n",
       "      <td>1</td>\n",
       "    </tr>\n",
       "    <tr>\n",
       "      <th>-25.00</th>\n",
       "      <td>1</td>\n",
       "      <td>1</td>\n",
       "      <td>1</td>\n",
       "      <td>1</td>\n",
       "    </tr>\n",
       "    <tr>\n",
       "      <th>-24.40</th>\n",
       "      <td>1</td>\n",
       "      <td>1</td>\n",
       "      <td>1</td>\n",
       "      <td>1</td>\n",
       "    </tr>\n",
       "    <tr>\n",
       "      <th>-22.50</th>\n",
       "      <td>1</td>\n",
       "      <td>1</td>\n",
       "      <td>1</td>\n",
       "      <td>1</td>\n",
       "    </tr>\n",
       "    <tr>\n",
       "      <th>-22.30</th>\n",
       "      <td>1</td>\n",
       "      <td>1</td>\n",
       "      <td>1</td>\n",
       "      <td>1</td>\n",
       "    </tr>\n",
       "    <tr>\n",
       "      <th>-21.00</th>\n",
       "      <td>3</td>\n",
       "      <td>3</td>\n",
       "      <td>3</td>\n",
       "      <td>3</td>\n",
       "    </tr>\n",
       "    <tr>\n",
       "      <th>-20.05</th>\n",
       "      <td>1</td>\n",
       "      <td>1</td>\n",
       "      <td>1</td>\n",
       "      <td>1</td>\n",
       "    </tr>\n",
       "    <tr>\n",
       "      <th>-18.05</th>\n",
       "      <td>1</td>\n",
       "      <td>1</td>\n",
       "      <td>1</td>\n",
       "      <td>1</td>\n",
       "    </tr>\n",
       "    <tr>\n",
       "      <th>-18.00</th>\n",
       "      <td>2</td>\n",
       "      <td>2</td>\n",
       "      <td>2</td>\n",
       "      <td>2</td>\n",
       "    </tr>\n",
       "    <tr>\n",
       "      <th>-17.00</th>\n",
       "      <td>1</td>\n",
       "      <td>1</td>\n",
       "      <td>1</td>\n",
       "      <td>1</td>\n",
       "    </tr>\n",
       "    <tr>\n",
       "      <th>-16.50</th>\n",
       "      <td>1</td>\n",
       "      <td>1</td>\n",
       "      <td>1</td>\n",
       "      <td>1</td>\n",
       "    </tr>\n",
       "    <tr>\n",
       "      <th>-16.30</th>\n",
       "      <td>4</td>\n",
       "      <td>4</td>\n",
       "      <td>4</td>\n",
       "      <td>4</td>\n",
       "    </tr>\n",
       "    <tr>\n",
       "      <th>-16.00</th>\n",
       "      <td>1</td>\n",
       "      <td>1</td>\n",
       "      <td>1</td>\n",
       "      <td>1</td>\n",
       "    </tr>\n",
       "    <tr>\n",
       "      <th>-14.00</th>\n",
       "      <td>1</td>\n",
       "      <td>1</td>\n",
       "      <td>1</td>\n",
       "      <td>1</td>\n",
       "    </tr>\n",
       "    <tr>\n",
       "      <th>-12.00</th>\n",
       "      <td>1</td>\n",
       "      <td>1</td>\n",
       "      <td>1</td>\n",
       "      <td>1</td>\n",
       "    </tr>\n",
       "    <tr>\n",
       "      <th>-11.00</th>\n",
       "      <td>1</td>\n",
       "      <td>1</td>\n",
       "      <td>1</td>\n",
       "      <td>1</td>\n",
       "    </tr>\n",
       "    <tr>\n",
       "      <th>-10.00</th>\n",
       "      <td>1</td>\n",
       "      <td>1</td>\n",
       "      <td>1</td>\n",
       "      <td>1</td>\n",
       "    </tr>\n",
       "    <tr>\n",
       "      <th>-10.00</th>\n",
       "      <td>1</td>\n",
       "      <td>1</td>\n",
       "      <td>1</td>\n",
       "      <td>1</td>\n",
       "    </tr>\n",
       "    <tr>\n",
       "      <th>-9.00</th>\n",
       "      <td>1</td>\n",
       "      <td>1</td>\n",
       "      <td>1</td>\n",
       "      <td>1</td>\n",
       "    </tr>\n",
       "    <tr>\n",
       "      <th>-8.50</th>\n",
       "      <td>1</td>\n",
       "      <td>1</td>\n",
       "      <td>1</td>\n",
       "      <td>1</td>\n",
       "    </tr>\n",
       "    <tr>\n",
       "      <th>-7.30</th>\n",
       "      <td>1</td>\n",
       "      <td>1</td>\n",
       "      <td>1</td>\n",
       "      <td>1</td>\n",
       "    </tr>\n",
       "    <tr>\n",
       "      <th>-6.65</th>\n",
       "      <td>1</td>\n",
       "      <td>1</td>\n",
       "      <td>1</td>\n",
       "      <td>1</td>\n",
       "    </tr>\n",
       "    <tr>\n",
       "      <th>-6.00</th>\n",
       "      <td>1</td>\n",
       "      <td>1</td>\n",
       "      <td>1</td>\n",
       "      <td>1</td>\n",
       "    </tr>\n",
       "    <tr>\n",
       "      <th>-5.70</th>\n",
       "      <td>1</td>\n",
       "      <td>1</td>\n",
       "      <td>1</td>\n",
       "      <td>1</td>\n",
       "    </tr>\n",
       "    <tr>\n",
       "      <th>-5.00</th>\n",
       "      <td>1</td>\n",
       "      <td>1</td>\n",
       "      <td>1</td>\n",
       "      <td>1</td>\n",
       "    </tr>\n",
       "    <tr>\n",
       "      <th>-3.50</th>\n",
       "      <td>1</td>\n",
       "      <td>1</td>\n",
       "      <td>1</td>\n",
       "      <td>1</td>\n",
       "    </tr>\n",
       "    <tr>\n",
       "      <th>-1.70</th>\n",
       "      <td>1</td>\n",
       "      <td>1</td>\n",
       "      <td>1</td>\n",
       "      <td>1</td>\n",
       "    </tr>\n",
       "    <tr>\n",
       "      <th>-1.00</th>\n",
       "      <td>1</td>\n",
       "      <td>1</td>\n",
       "      <td>1</td>\n",
       "      <td>1</td>\n",
       "    </tr>\n",
       "    <tr>\n",
       "      <th>0.00</th>\n",
       "      <td>33</td>\n",
       "      <td>33</td>\n",
       "      <td>33</td>\n",
       "      <td>33</td>\n",
       "    </tr>\n",
       "  </tbody>\n",
       "</table>\n",
       "</div>"
      ],
      "text/plain": [
       "                  Model  Brand  Current Price  Previous Price\n",
       "Price Difference                                             \n",
       "-70.00                1      1              1               1\n",
       "-56.00                1      1              1               1\n",
       "-52.00                1      1              1               1\n",
       "-47.00                1      1              1               1\n",
       "-44.00                2      2              2               2\n",
       "-39.98                1      1              1               1\n",
       "-39.00                1      1              1               1\n",
       "-38.00                1      1              1               1\n",
       "-37.50                1      1              1               1\n",
       "-36.00                3      3              3               3\n",
       "-35.98                1      1              1               1\n",
       "-35.50                1      1              1               1\n",
       "-32.50                1      1              1               1\n",
       "-25.50                1      1              1               1\n",
       "-25.00                1      1              1               1\n",
       "-25.00                1      1              1               1\n",
       "-24.40                1      1              1               1\n",
       "-22.50                1      1              1               1\n",
       "-22.30                1      1              1               1\n",
       "-21.00                3      3              3               3\n",
       "-20.05                1      1              1               1\n",
       "-18.05                1      1              1               1\n",
       "-18.00                2      2              2               2\n",
       "-17.00                1      1              1               1\n",
       "-16.50                1      1              1               1\n",
       "-16.30                4      4              4               4\n",
       "-16.00                1      1              1               1\n",
       "-14.00                1      1              1               1\n",
       "-12.00                1      1              1               1\n",
       "-11.00                1      1              1               1\n",
       "-10.00                1      1              1               1\n",
       "-10.00                1      1              1               1\n",
       "-9.00                 1      1              1               1\n",
       "-8.50                 1      1              1               1\n",
       "-7.30                 1      1              1               1\n",
       "-6.65                 1      1              1               1\n",
       "-6.00                 1      1              1               1\n",
       "-5.70                 1      1              1               1\n",
       "-5.00                 1      1              1               1\n",
       "-3.50                 1      1              1               1\n",
       "-1.70                 1      1              1               1\n",
       "-1.00                 1      1              1               1\n",
       " 0.00                33     33             33              33"
      ]
     },
     "execution_count": 101,
     "metadata": {},
     "output_type": "execute_result"
    }
   ],
   "source": [
    "products = df.groupby(['Price Difference']).count()\n",
    "products"
   ]
  },
  {
   "cell_type": "markdown",
   "id": "5b93e29c",
   "metadata": {},
   "source": [
    "Out of 84 products, 51 of them are discounted, 61% of them."
   ]
  },
  {
   "cell_type": "markdown",
   "id": "5ecd51f9",
   "metadata": {},
   "source": [
    "Now let's see what the average discount depth of the products. "
   ]
  },
  {
   "cell_type": "code",
   "execution_count": 77,
   "id": "2c58d01d",
   "metadata": {},
   "outputs": [
    {
     "data": {
      "text/plain": [
       "51"
      ]
     },
     "execution_count": 77,
     "metadata": {},
     "output_type": "execute_result"
    }
   ],
   "source": [
    "discount = df.loc[df['Price Difference'] != 0.00]\n",
    "len(discount)"
   ]
  },
  {
   "cell_type": "code",
   "execution_count": 90,
   "id": "dbb441ad",
   "metadata": {
    "scrolled": false
   },
   "outputs": [
    {
     "data": {
      "text/plain": [
       "<AxesSubplot:xlabel='Price Difference', ylabel='Count'>"
      ]
     },
     "execution_count": 90,
     "metadata": {},
     "output_type": "execute_result"
    },
    {
     "data": {
      "image/png": "[encoded data removed]",
      "text/plain": [
       "<Figure size 1152x648 with 1 Axes>"
      ]
     },
     "metadata": {},
     "output_type": "display_data"
    }
   ],
   "source": [
    "discounts_graph = sns.histplot(x = df['Price Difference'], bins = 7)\n",
    "discounts_graph"
   ]
  },
  {
   "cell_type": "code",
   "execution_count": 91,
   "id": "57f2e88a",
   "metadata": {},
   "outputs": [],
   "source": [
    "discounts_graph.figure.savefig(\"discounts_graph.jpg\", dpi=1000)"
   ]
  },
  {
   "cell_type": "markdown",
   "id": "b9e9f425",
   "metadata": {},
   "source": [
    "Most of the discounts are between 0 - 10 euros."
   ]
  },
  {
   "cell_type": "markdown",
   "id": "e8e399ae",
   "metadata": {},
   "source": [
    "Finally let's see which is the product with the deepest discount."
   ]
  },
  {
   "cell_type": "code",
   "execution_count": 81,
   "id": "ebf638f1",
   "metadata": {},
   "outputs": [
    {
     "data": {
      "text/html": [
       "<div>\n",
       "<style scoped>\n",
       "    .dataframe tbody tr th:only-of-type {\n",
       "        vertical-align: middle;\n",
       "    }\n",
       "\n",
       "    .dataframe tbody tr th {\n",
       "        vertical-align: top;\n",
       "    }\n",
       "\n",
       "    .dataframe thead th {\n",
       "        text-align: right;\n",
       "    }\n",
       "</style>\n",
       "<table border=\"1\" class=\"dataframe\">\n",
       "  <thead>\n",
       "    <tr style=\"text-align: right;\">\n",
       "      <th></th>\n",
       "      <th>Model</th>\n",
       "      <th>Brand</th>\n",
       "      <th>Current Price</th>\n",
       "      <th>Previous Price</th>\n",
       "      <th>Price Difference</th>\n",
       "    </tr>\n",
       "  </thead>\n",
       "  <tbody>\n",
       "    <tr>\n",
       "      <th>0</th>\n",
       "      <td>REEBOK HIIT TR - Zapatillas de entrenamiento -...</td>\n",
       "      <td>Reebok</td>\n",
       "      <td>29.95</td>\n",
       "      <td>99.95</td>\n",
       "      <td>-70.0</td>\n",
       "    </tr>\n",
       "  </tbody>\n",
       "</table>\n",
       "</div>"
      ],
      "text/plain": [
       "                                               Model   Brand  Current Price  \\\n",
       "0  REEBOK HIIT TR - Zapatillas de entrenamiento -...  Reebok          29.95   \n",
       "\n",
       "   Previous Price  Price Difference  \n",
       "0           99.95             -70.0  "
      ]
     },
     "execution_count": 81,
     "metadata": {},
     "output_type": "execute_result"
    }
   ],
   "source": [
    "deepest_discount = df.loc[df['Price Difference'] == -70.00]\n",
    "deepest_discount"
   ]
  },
  {
   "cell_type": "code",
   "execution_count": 92,
   "id": "403b4e9d",
   "metadata": {},
   "outputs": [],
   "source": [
    "deepest_discount.to_csv('deepest_discount.csv')"
   ]
  },
  {
   "cell_type": "markdown",
   "id": "684a95b8",
   "metadata": {},
   "source": [
    "Reebok is the brand offering the product with the deepest discount."
   ]
  }
 ],
 "metadata": {
  "kernelspec": {
   "display_name": "ironhack",
   "language": "python",
   "name": "ironhack"
  },
  "language_info": {
   "codemirror_mode": {
    "name": "ipython",
    "version": 3
   },
   "file_extension": ".py",
   "mimetype": "text/x-python",
   "name": "python",
   "nbconvert_exporter": "python",
   "pygments_lexer": "ipython3",
   "version": "3.8.10"
  }
 },
 "nbformat": 4,
 "nbformat_minor": 5
}
